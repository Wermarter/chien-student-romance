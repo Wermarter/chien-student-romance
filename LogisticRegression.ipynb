{
 "cells": [
  {
   "cell_type": "markdown",
   "metadata": {},
   "source": [
    "Comparison between my implementation of Logistic Regression vs Sklearn's\n",
    "I'm just a newbie highschooler trying to learn to 'learn' anyway. I really appreciate any comment. SO please comment if you have any suggestion."
   ]
  },
  {
   "cell_type": "code",
   "execution_count": 1,
   "metadata": {
    "collapsed": true
   },
   "outputs": [],
   "source": [
    "import numpy as np\n",
    "import pandas as pd\n",
    "import math\n",
    "from sklearn.linear_model import LogisticRegression as LR\n",
    "e = math.e"
   ]
  },
  {
   "cell_type": "code",
   "execution_count": 2,
   "metadata": {
    "collapsed": true
   },
   "outputs": [],
   "source": [
    "train = pd.read_csv('student-mat.csv')\n",
    "train_y = train[['romantic']]\n",
    "train = train[['sex', 'age', 'famsize', 'traveltime', 'studytime', 'activities', 'goout', 'famrel']]"
   ]
  },
  {
   "cell_type": "code",
   "execution_count": 3,
   "metadata": {
    "collapsed": false
   },
   "outputs": [
    {
     "name": "stderr",
     "output_type": "stream",
     "text": [
      "C:\\ProgramData\\Anaconda3\\lib\\site-packages\\ipykernel\\__main__.py:4: SettingWithCopyWarning: \n",
      "A value is trying to be set on a copy of a slice from a DataFrame\n",
      "\n",
      "See the caveats in the documentation: http://pandas.pydata.org/pandas-docs/stable/indexing.html#indexing-view-versus-copy\n",
      "C:\\ProgramData\\Anaconda3\\lib\\site-packages\\ipykernel\\__main__.py:6: SettingWithCopyWarning: \n",
      "A value is trying to be set on a copy of a slice from a DataFrame\n",
      "\n",
      "See the caveats in the documentation: http://pandas.pydata.org/pandas-docs/stable/indexing.html#indexing-view-versus-copy\n",
      "C:\\ProgramData\\Anaconda3\\lib\\site-packages\\ipykernel\\__main__.py:8: SettingWithCopyWarning: \n",
      "A value is trying to be set on a copy of a slice from a DataFrame\n",
      "\n",
      "See the caveats in the documentation: http://pandas.pydata.org/pandas-docs/stable/indexing.html#indexing-view-versus-copy\n"
     ]
    }
   ],
   "source": [
    "train_y['romantic'][train_y['romantic']=='no'] = 0\n",
    "train_y['romantic'][train_y['romantic']=='yes'] = 1\n",
    "train['sex'][train['sex']=='F'] = 0\n",
    "train['sex'][train['sex']=='M'] = 1\n",
    "train['famsize'][train['famsize']=='LE3'] = 0\n",
    "train['famsize'][train['famsize']=='GT3'] = 1\n",
    "train['activities'][train['activities']=='no'] = 0\n",
    "train['activities'][train['activities']=='yes'] = 1\n",
    "train = train.apply(pd.to_numeric)"
   ]
  },
  {
   "cell_type": "code",
   "execution_count": 4,
   "metadata": {
    "collapsed": false
   },
   "outputs": [
    {
     "name": "stdout",
     "output_type": "stream",
     "text": [
      "<class 'pandas.core.frame.DataFrame'>\n",
      "RangeIndex: 395 entries, 0 to 394\n",
      "Data columns (total 8 columns):\n",
      "sex           395 non-null int64\n",
      "age           395 non-null int64\n",
      "famsize       395 non-null int64\n",
      "traveltime    395 non-null int64\n",
      "studytime     395 non-null int64\n",
      "activities    395 non-null int64\n",
      "goout         395 non-null int64\n",
      "famrel        395 non-null int64\n",
      "dtypes: int64(8)\n",
      "memory usage: 24.8 KB\n",
      "None\n"
     ]
    },
    {
     "data": {
      "text/html": [
       "<div>\n",
       "<table border=\"1\" class=\"dataframe\">\n",
       "  <thead>\n",
       "    <tr style=\"text-align: right;\">\n",
       "      <th></th>\n",
       "      <th>sex</th>\n",
       "      <th>age</th>\n",
       "      <th>famsize</th>\n",
       "      <th>traveltime</th>\n",
       "      <th>studytime</th>\n",
       "      <th>activities</th>\n",
       "      <th>goout</th>\n",
       "      <th>famrel</th>\n",
       "    </tr>\n",
       "  </thead>\n",
       "  <tbody>\n",
       "    <tr>\n",
       "      <th>count</th>\n",
       "      <td>395.000000</td>\n",
       "      <td>395.000000</td>\n",
       "      <td>395.000000</td>\n",
       "      <td>395.000000</td>\n",
       "      <td>395.000000</td>\n",
       "      <td>395.000000</td>\n",
       "      <td>395.000000</td>\n",
       "      <td>395.000000</td>\n",
       "    </tr>\n",
       "    <tr>\n",
       "      <th>mean</th>\n",
       "      <td>0.473418</td>\n",
       "      <td>16.696203</td>\n",
       "      <td>0.711392</td>\n",
       "      <td>1.448101</td>\n",
       "      <td>2.035443</td>\n",
       "      <td>0.508861</td>\n",
       "      <td>3.108861</td>\n",
       "      <td>3.944304</td>\n",
       "    </tr>\n",
       "    <tr>\n",
       "      <th>std</th>\n",
       "      <td>0.499926</td>\n",
       "      <td>1.276043</td>\n",
       "      <td>0.453690</td>\n",
       "      <td>0.697505</td>\n",
       "      <td>0.839240</td>\n",
       "      <td>0.500555</td>\n",
       "      <td>1.113278</td>\n",
       "      <td>0.896659</td>\n",
       "    </tr>\n",
       "    <tr>\n",
       "      <th>min</th>\n",
       "      <td>0.000000</td>\n",
       "      <td>15.000000</td>\n",
       "      <td>0.000000</td>\n",
       "      <td>1.000000</td>\n",
       "      <td>1.000000</td>\n",
       "      <td>0.000000</td>\n",
       "      <td>1.000000</td>\n",
       "      <td>1.000000</td>\n",
       "    </tr>\n",
       "    <tr>\n",
       "      <th>25%</th>\n",
       "      <td>0.000000</td>\n",
       "      <td>16.000000</td>\n",
       "      <td>0.000000</td>\n",
       "      <td>1.000000</td>\n",
       "      <td>1.000000</td>\n",
       "      <td>0.000000</td>\n",
       "      <td>2.000000</td>\n",
       "      <td>4.000000</td>\n",
       "    </tr>\n",
       "    <tr>\n",
       "      <th>50%</th>\n",
       "      <td>0.000000</td>\n",
       "      <td>17.000000</td>\n",
       "      <td>1.000000</td>\n",
       "      <td>1.000000</td>\n",
       "      <td>2.000000</td>\n",
       "      <td>1.000000</td>\n",
       "      <td>3.000000</td>\n",
       "      <td>4.000000</td>\n",
       "    </tr>\n",
       "    <tr>\n",
       "      <th>75%</th>\n",
       "      <td>1.000000</td>\n",
       "      <td>18.000000</td>\n",
       "      <td>1.000000</td>\n",
       "      <td>2.000000</td>\n",
       "      <td>2.000000</td>\n",
       "      <td>1.000000</td>\n",
       "      <td>4.000000</td>\n",
       "      <td>5.000000</td>\n",
       "    </tr>\n",
       "    <tr>\n",
       "      <th>max</th>\n",
       "      <td>1.000000</td>\n",
       "      <td>22.000000</td>\n",
       "      <td>1.000000</td>\n",
       "      <td>4.000000</td>\n",
       "      <td>4.000000</td>\n",
       "      <td>1.000000</td>\n",
       "      <td>5.000000</td>\n",
       "      <td>5.000000</td>\n",
       "    </tr>\n",
       "  </tbody>\n",
       "</table>\n",
       "</div>"
      ],
      "text/plain": [
       "              sex         age     famsize  traveltime   studytime  activities  \\\n",
       "count  395.000000  395.000000  395.000000  395.000000  395.000000  395.000000   \n",
       "mean     0.473418   16.696203    0.711392    1.448101    2.035443    0.508861   \n",
       "std      0.499926    1.276043    0.453690    0.697505    0.839240    0.500555   \n",
       "min      0.000000   15.000000    0.000000    1.000000    1.000000    0.000000   \n",
       "25%      0.000000   16.000000    0.000000    1.000000    1.000000    0.000000   \n",
       "50%      0.000000   17.000000    1.000000    1.000000    2.000000    1.000000   \n",
       "75%      1.000000   18.000000    1.000000    2.000000    2.000000    1.000000   \n",
       "max      1.000000   22.000000    1.000000    4.000000    4.000000    1.000000   \n",
       "\n",
       "            goout      famrel  \n",
       "count  395.000000  395.000000  \n",
       "mean     3.108861    3.944304  \n",
       "std      1.113278    0.896659  \n",
       "min      1.000000    1.000000  \n",
       "25%      2.000000    4.000000  \n",
       "50%      3.000000    4.000000  \n",
       "75%      4.000000    5.000000  \n",
       "max      5.000000    5.000000  "
      ]
     },
     "execution_count": 4,
     "metadata": {},
     "output_type": "execute_result"
    }
   ],
   "source": [
    "print(train.info())\n",
    "train.describe()"
   ]
  },
  {
   "cell_type": "code",
   "execution_count": 5,
   "metadata": {
    "collapsed": true
   },
   "outputs": [],
   "source": [
    "test_ratio = 0.2\n",
    "train_x = train.values\n",
    "train_y = train_y.apply(pd.to_numeric).values\n",
    "sep = int(test_ratio*train.shape[0])\n",
    "test_x = train_x[:sep]\n",
    "test_y = train_y[:sep]\n",
    "train_x = train_x[sep:]\n",
    "train_y = train_y[sep:]\n",
    "train_x = np.insert(train_x, 0, np.ones(train_x.shape[0]), 1)\n",
    "test_x = np.insert(test_x, 0, np.ones(test_x.shape[0]), 1)"
   ]
  },
  {
   "cell_type": "code",
   "execution_count": 6,
   "metadata": {
    "collapsed": false
   },
   "outputs": [
    {
     "name": "stdout",
     "output_type": "stream",
     "text": [
      "1 -> 2.65113171292\n",
      "10000 -> 0.648707447768\n",
      "20000 -> 0.647606475152\n",
      "30000 -> 0.647111481688\n",
      "40000 -> 0.646673260573\n",
      "50000 -> 0.646276292154\n",
      "60000 -> 0.645916517697\n",
      "70000 -> 0.645590467281\n",
      "80000 -> 0.645294993457\n",
      "90000 -> 0.645027238356\n",
      "100000 -> 0.644784607963\n"
     ]
    },
    {
     "data": {
      "text/plain": [
       "0.8227848101265823"
      ]
     },
     "execution_count": 6,
     "metadata": {},
     "output_type": "execute_result"
    }
   ],
   "source": [
    "np.set_printoptions(threshold=np.nan)\n",
    "m, n = train_x.shape\n",
    "def sigmoid(x):\n",
    "    return 1.0/(1.0+e**(-1.0*x))\n",
    "def GradientDescent(x, y, theta, learning_rate, numIterations):\n",
    "    xT = x.transpose()\n",
    "    theta = theta.reshape(n, 1)\n",
    "    y = y.reshape(m, 1)\n",
    "    interval = int(numIterations / 10)\n",
    "    for i in range(numIterations):\n",
    "        H = x.dot(theta)\n",
    "        H = sigmoid(H)\n",
    "        Loss = H - y\n",
    "        Gradient = xT.dot(H - y) / m\n",
    "        theta -= learning_rate * Gradient\n",
    "        if ((i+1) % interval == 0)or(i==0):\n",
    "            #Cost = 1/(2*m)*np.sum(Loss**2)\n",
    "            Cost = -1/m*np.sum((1-y)*np.log(1-H)+y*np.log(H))\n",
    "            print(i+1, \"->\", Cost)\n",
    "    return theta\n",
    "def DecisionBoundary(x, y):\n",
    "    np.random.seed(1)\n",
    "    theta = np.random.random(n)\n",
    "    learning_rate = 0.005\n",
    "    numIterations = 100000\n",
    "    theta = GradientDescent(x, y, theta, learning_rate, numIterations)\n",
    "    return theta\n",
    "def LogisticRegression(theta, x):\n",
    "    x = x.reshape(1, x.shape[-1])\n",
    "    s = sigmoid(x.dot(theta))\n",
    "    return float(s[0])\n",
    "def Score(X, y, theta):\n",
    "    count = 0\n",
    "    for i, x in enumerate(X):\n",
    "        out = 1 if LogisticRegression(theta, x) > 0.5 else 0\n",
    "        if (out-y[i]==0):\n",
    "            count += 1\n",
    "    return count/len(X)\n",
    "model = DecisionBoundary(train_x, train_y)\n",
    "Score(test_x, test_y, model)"
   ]
  },
  {
   "cell_type": "code",
   "execution_count": 7,
   "metadata": {
    "collapsed": true
   },
   "outputs": [],
   "source": [
    "sex, age, famsize, traveltime, studytime, activities, goout, famrel = 1, 17, 1, 3, 1, 1, , 5\n",
    "input_data = np.array([1, sex, age, famsize, traveltime, studytime, activities, goout, famrel])"
   ]
  },
  {
   "cell_type": "code",
   "execution_count": 8,
   "metadata": {
    "collapsed": false
   },
   "outputs": [
    {
     "data": {
      "text/plain": [
       "29.469007101775773"
      ]
     },
     "execution_count": 8,
     "metadata": {},
     "output_type": "execute_result"
    }
   ],
   "source": [
    "out = LogisticRegression(model, input_data)\n",
    "out*100"
   ]
  },
  {
   "cell_type": "code",
   "execution_count": 9,
   "metadata": {
    "collapsed": false
   },
   "outputs": [
    {
     "name": "stdout",
     "output_type": "stream",
     "text": [
      "0.822784810127\n"
     ]
    },
    {
     "name": "stderr",
     "output_type": "stream",
     "text": [
      "C:\\ProgramData\\Anaconda3\\lib\\site-packages\\sklearn\\utils\\validation.py:526: DataConversionWarning: A column-vector y was passed when a 1d array was expected. Please change the shape of y to (n_samples, ), for example using ravel().\n",
      "  y = column_or_1d(y, warn=True)\n"
     ]
    },
    {
     "data": {
      "text/plain": [
       "30.585727795562544"
      ]
     },
     "execution_count": 9,
     "metadata": {},
     "output_type": "execute_result"
    }
   ],
   "source": [
    "logistic = LR()\n",
    "logistic.fit(train_x, train_y)\n",
    "print(logistic.score(test_x, test_y))\n",
    "float(logistic.predict_proba(input_data.reshape(1, -1))[0][1])*100"
   ]
  },
  {
   "cell_type": "code",
   "execution_count": 10,
   "metadata": {
    "collapsed": false
   },
   "outputs": [
    {
     "data": {
      "text/plain": [
       "array([[-0.61831704, -0.4647594 ,  0.11811884, -0.29743417,  0.00161876,\n",
       "        -0.01816651,  0.11768119, -0.09074598, -0.15154086]])"
      ]
     },
     "execution_count": 10,
     "metadata": {},
     "output_type": "execute_result"
    }
   ],
   "source": [
    "logistic.coef_"
   ]
  },
  {
   "cell_type": "code",
   "execution_count": 11,
   "metadata": {
    "collapsed": false
   },
   "outputs": [
    {
     "data": {
      "text/plain": [
       "array([[ -1.01537746e+00],\n",
       "       [ -5.02872772e-01],\n",
       "       [  1.09608408e-01],\n",
       "       [ -3.27449820e-01],\n",
       "       [ -7.55581309e-04],\n",
       "       [ -2.87423670e-02],\n",
       "       [  1.26371504e-01],\n",
       "       [ -9.18777141e-02],\n",
       "       [ -1.54926192e-01]])"
      ]
     },
     "execution_count": 11,
     "metadata": {},
     "output_type": "execute_result"
    }
   ],
   "source": [
    "model"
   ]
  },
  {
   "cell_type": "code",
   "execution_count": null,
   "metadata": {
    "collapsed": true
   },
   "outputs": [],
   "source": []
  }
 ],
 "metadata": {
  "kernelspec": {
   "display_name": "Python [default]",
   "language": "python",
   "name": "python3"
  },
  "language_info": {
   "codemirror_mode": {
    "name": "ipython",
    "version": 3
   },
   "file_extension": ".py",
   "mimetype": "text/x-python",
   "name": "python",
   "nbconvert_exporter": "python",
   "pygments_lexer": "ipython3",
   "version": "3.5.2"
  }
 },
 "nbformat": 4,
 "nbformat_minor": 0
}
